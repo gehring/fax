{
 "cells": [
  {
   "cell_type": "code",
   "execution_count": 1,
   "metadata": {},
   "outputs": [],
   "source": [
    "import jax\n",
    "import jax.numpy as jnp\n",
    "from jax.config import config\n",
    "\n",
    "\n",
    "from fax.implicit.twophase import two_phase_solver\n",
    "from scipy.optimize import newton\n",
    "\n",
    "\n",
    "config.update(\"jax_enable_x64\", True)\n"
   ]
  },
  {
   "cell_type": "code",
   "execution_count": 3,
   "metadata": {},
   "outputs": [],
   "source": [
    "def phi(z):\n",
    "    return (z-2) ** 3 + 0.4\n",
    "\n",
    "\n",
    "#see Evaluating Derivatives\n",
    "def lighthouse(x, params):\n",
    "    t = 2\n",
    "    z = x[0]\n",
    "    return phi(z) - z * jnp.tan(t)\n",
    "\n",
    "\n",
    "def grad_lighthouse(z):\n",
    "    return 3 * z ** 2 - 12 * z + 12 - jnp.tan(t)\n",
    "\n",
    "\n",
    "def make_operator(params):\n",
    "    \n",
    "    def f(i,x):\n",
    "        del i\n",
    "        return lighthouse(x, params)\n",
    "    return f\n",
    "\n",
    "def newton_solver(x, params):\n",
    "    \n",
    "    f = lighthouse\n",
    "    Df = jax.grad(lighthouse)\n",
    "\n",
    "    epsilon = 1e-5\n",
    "    max_iter = 1000\n",
    "    xn = x\n",
    "    \n",
    "    for n in range(0,max_iter):\n",
    "        \n",
    "        fxn = f(xn, params) \n",
    "        Dfxn = Df(xn,params)\n",
    "        xn2 = xn - fxn/Dfxn\n",
    "        check = abs(fxn) < epsilon\n",
    "        xn = jnp.where(check, xn, xn2) \n",
    "        \n",
    "    return xn\n",
    "\n"
   ]
  },
  {
   "cell_type": "code",
   "execution_count": 4,
   "metadata": {},
   "outputs": [
    {
     "name": "stderr",
     "output_type": "stream",
     "text": [
      "/network/home/zhangire/miniconda3/lib/python3.7/site-packages/jax/lib/xla_bridge.py:123: UserWarning: No GPU/TPU found, falling back to CPU.\n",
      "  warnings.warn('No GPU/TPU found, falling back to CPU.')\n"
     ]
    }
   ],
   "source": [
    "fc = two_phase_solver(make_operator, forward_solver = newton_solver)\n",
    "\n",
    "x0 = jnp.zeros(2)\n",
    "\n",
    "params = [2]\n",
    "\n",
    "x_star = fc(x0, params)"
   ]
  },
  {
   "cell_type": "code",
   "execution_count": 6,
   "metadata": {},
   "outputs": [
    {
     "data": {
      "text/plain": [
       "DeviceArray(-1.6875389e-07, dtype=float64)"
      ]
     },
     "execution_count": 6,
     "metadata": {},
     "output_type": "execute_result"
    }
   ],
   "source": [
    "lighthouse(x_star, params)"
   ]
  },
  {
   "cell_type": "code",
   "execution_count": null,
   "metadata": {},
   "outputs": [],
   "source": []
  }
 ],
 "metadata": {
  "kernelspec": {
   "display_name": "Python 3",
   "language": "python",
   "name": "python3"
  },
  "language_info": {
   "codemirror_mode": {
    "name": "ipython",
    "version": 3
   },
   "file_extension": ".py",
   "mimetype": "text/x-python",
   "name": "python",
   "nbconvert_exporter": "python",
   "pygments_lexer": "ipython3",
   "version": "3.7.3"
  }
 },
 "nbformat": 4,
 "nbformat_minor": 2
}
